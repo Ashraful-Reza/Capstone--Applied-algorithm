{
 "cells": [
  {
   "cell_type": "code",
   "execution_count": 27,
   "id": "4f24728d-27ee-4de7-a4c7-ffceaac3d774",
   "metadata": {},
   "outputs": [],
   "source": [
    "import numpy as np\n",
    "from sklearn.model_selection import train_test_split\n",
    "from sklearn.neighbors import KNeighborsClassifier\n",
    "from sklearn.metrics import accuracy_score\n",
    "from sklearn.preprocessing import StandardScaler\n",
    "from sklearn.pipeline import Pipeline\n",
    "import os\n",
    "from PIL import Image\n"
   ]
  },
  {
   "cell_type": "code",
   "execution_count": 28,
   "id": "0e57e25e",
   "metadata": {},
   "outputs": [],
   "source": [
    "def load_dataset(path):\n",
    "    images = []\n",
    "    labels = []\n",
    "    class_names = os.listdir(path)\n",
    "    for label, class_name in enumerate(class_names):\n",
    "        class_path = os.path.join(path, class_name)\n",
    "        for image_name in os.listdir(class_path):\n",
    "            image_path = os.path.join(class_path, image_name)\n",
    "            image = Image.open(image_path).convert('RGB')\n",
    "            image = image.resize((32, 32))  # Resize the image to a fixed size\n",
    "            image = np.array(image).flatten()  # Flatten the image\n",
    "            images.append(image)\n",
    "            labels.append(label)\n",
    "    return np.array(images), np.array(labels)\n",
    "\n",
    "# Provide the path to your dataset\n",
    "dataset_path = \"H:/15 classes 6k Images\"\n",
    "images, labels = load_dataset(dataset_path)\n"
   ]
  },
  {
   "cell_type": "code",
   "execution_count": 29,
   "id": "a158e087",
   "metadata": {},
   "outputs": [],
   "source": [
    "# Split the dataset into training and testing sets\n",
    "X_train, X_test, y_train, y_test = train_test_split(images, labels, test_size=0.3, random_state=42)\n"
   ]
  },
  {
   "cell_type": "code",
   "execution_count": 33,
   "id": "e419cc1f",
   "metadata": {},
   "outputs": [
    {
     "name": "stdout",
     "output_type": "stream",
     "text": [
      "Best n_neighbors: 3\n",
      "Accuracy: 0.5622222222222222\n"
     ]
    }
   ],
   "source": [
    "from sklearn.model_selection import GridSearchCV\n",
    "\n",
    "# Define the parameter grid for grid search\n",
    "param_grid = {\n",
    "    'knn__n_neighbors': [3, 5, 7, 9, 11, 13, 15]  # List of values to search\n",
    "}\n",
    "\n",
    "# Perform grid search\n",
    "grid_search = GridSearchCV(knn_model, param_grid, cv=5)\n",
    "grid_search.fit(X_train, y_train)\n",
    "\n",
    "# Get the best hyperparameters\n",
    "best_n_neighbors = grid_search.best_params_['knn__n_neighbors']\n",
    "print(\"Best n_neighbors:\", best_n_neighbors)\n",
    "\n",
    "# Use the best hyperparameters to build and train the final KNN model\n",
    "knn_model = Pipeline([\n",
    "    ('scaler', StandardScaler()),\n",
    "    ('knn', KNeighborsClassifier(n_neighbors=best_n_neighbors))\n",
    "])\n",
    "knn_model.fit(X_train, y_train)\n",
    "\n",
    "# Evaluate the accuracy of the final model\n",
    "y_pred = knn_model.predict(X_test)\n",
    "accuracy = accuracy_score(y_test, y_pred)\n",
    "print(\"Accuracy:\", accuracy)"
   ]
  },
  {
   "cell_type": "code",
   "execution_count": 34,
   "id": "60f0bf53",
   "metadata": {},
   "outputs": [
    {
     "name": "stdout",
     "output_type": "stream",
     "text": [
      "Predicted class: One way street\n"
     ]
    }
   ],
   "source": [
    "def preprocess_image(image_path):\n",
    "    image = Image.open(image_path).convert('RGB')\n",
    "    image = image.resize((32, 32))  # Resize the image to a fixed size\n",
    "    image = np.array(image).flatten()  # Flatten the image\n",
    "    return image\n",
    "\n",
    "# Provide the path to your test image\n",
    "test_image_path = \"H:\\\\15 classes 6k Images\\\\No rickshaws\\\\norickshaws1_output_0_883.png\"\n",
    "test_image = preprocess_image(test_image_path)\n",
    "\n",
    "# Make a prediction on the test image\n",
    "predicted_label = knn_model.predict([test_image])[0]\n",
    "\n",
    "# Get the class label name corresponding to the predicted label\n",
    "class_names = ['No left turn', 'No Overtaking', 'NO Parking', 'No rickshaws', 'No right turn', 'No trucks', 'No U turn', 'No use of horn', 'One way street', 'Parking', 'Pedestrian Crossing', 'School', 'Sharp bend to the right ahead', 'Side road on the left ahead', 'U-turn']\n",
    "predicted_class_name = class_names[predicted_label]\n",
    "\n",
    "print(\"Predicted class:\", predicted_class_name)\n"
   ]
  },
  {
   "cell_type": "code",
   "execution_count": 35,
   "id": "0bcd83e7",
   "metadata": {},
   "outputs": [
    {
     "name": "stdout",
     "output_type": "stream",
     "text": [
      "Test image path: H:\\15 classes 6k Images\\No rickshaws\\norickshaws1_output_0_883.png\n",
      "Test image shape: (3072,)\n",
      "Flattened image shape: (3072,)\n",
      "Predicted label index: 8\n"
     ]
    }
   ],
   "source": [
    "# Debugging outputs\n",
    "print(\"Test image path:\", test_image_path)\n",
    "print(\"Test image shape:\", test_image.shape)\n",
    "print(\"Flattened image shape:\", test_image.flatten().shape)\n",
    "print(\"Predicted label index:\", predicted_label)\n"
   ]
  },
  {
   "cell_type": "code",
   "execution_count": null,
   "id": "c5479b55",
   "metadata": {},
   "outputs": [],
   "source": []
  }
 ],
 "metadata": {
  "kernelspec": {
   "display_name": "Python 3 (ipykernel)",
   "language": "python",
   "name": "python3"
  },
  "language_info": {
   "codemirror_mode": {
    "name": "ipython",
    "version": 3
   },
   "file_extension": ".py",
   "mimetype": "text/x-python",
   "name": "python",
   "nbconvert_exporter": "python",
   "pygments_lexer": "ipython3",
   "version": "3.11.5"
  }
 },
 "nbformat": 4,
 "nbformat_minor": 5
}
