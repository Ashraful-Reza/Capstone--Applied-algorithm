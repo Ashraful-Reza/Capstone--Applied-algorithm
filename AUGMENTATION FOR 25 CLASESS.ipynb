{
 "cells": [
  {
   "cell_type": "code",
   "execution_count": 1,
   "id": "acdc07d1",
   "metadata": {},
   "outputs": [],
   "source": [
    "import os\n",
    "import cv2\n",
    "import glob\n",
    "import random\n",
    "\n",
    "from tensorflow.keras.preprocessing.image import ImageDataGenerator, array_to_img, img_to_array, load_img\n",
    "\n",
    "def apply_gaussian_blur(img, sigma):\n",
    "    blurred = cv2.GaussianBlur(img, (0, 0), sigma)\n",
    "    return blurred\n",
    "\n",
    "datagen = ImageDataGenerator(\n",
    "        rotation_range=40,\n",
    "        brightness_range=[0.5, 1.5],\n",
    "        horizontal_flip=True,\n",
    "        vertical_flip=True,\n",
    "        fill_mode='nearest',\n",
    "        preprocessing_function=lambda x: apply_gaussian_blur(x, 1)\n",
    "        )\n",
    "\n",
    "dir_path = 'H:\\\\new\\\\হুইলচেয়ার'\n",
    "save_dir_path = 'H:\\\\new\\\\হুইলচেয়ার' # replace with the directory where you want to save the augmented images\n",
    "\n",
    "# select all images from the directory\n",
    "file_list = glob.glob(os.path.join(dir_path, '*.png'))\n",
    "\n",
    "for img_path in file_list:\n",
    "    img = load_img(img_path)  # this is a PIL image\n",
    "    x = img_to_array(img)  # this is a Numpy array with shape (3, 150, 150)\n",
    "    x = x.reshape((1,) + x.shape)  # this is a Numpy array with shape (1, 3, 600, 600)\n",
    "\n",
    "    width_shift_range = random.uniform(0.0, 0.3)  # random value between 0.0 and 0.3\n",
    "    height_shift_range = random.uniform(0.0, 0.3)  # random value between 0.0 and 0.3\n",
    "    shear_range = random.uniform(0.0, 0.2)  # random value between 0.0 and 0.2\n",
    "    zoom_range = (random.uniform(0.8, 1.2), random.uniform(0.8, 1.2))  # random value between 0.8 and 1.2 for zoom range\n",
    "\n",
    "    datagen.width_shift_range = width_shift_range\n",
    "    datagen.height_shift_range = height_shift_range\n",
    "    datagen.shear_range = shear_range\n",
    "    datagen.zoom_range = zoom_range\n",
    "\n",
    "    # Additional vertical flip\n",
    "#     datagen.vertical_flip = bool(random.getrandbits(1))  # Randomly set vertical_flip\n",
    "\n",
    "    # the .flow() command below generates batches of randomly transformed images\n",
    "    # and saves the results to the `preview/` directory\n",
    "    i = 0\n",
    "    for batch in datagen.flow(x, batch_size=1,\n",
    "                              save_to_dir=save_dir_path, save_prefix=os.path.basename(img_path)[:-4], save_format='png'):\n",
    "        i += 1\n",
    "        if i >40:\n",
    "            break  # otherwise the generator would loop indefinitely\n"
   ]
  },
  {
   "cell_type": "code",
   "execution_count": null,
   "id": "f25de6f2",
   "metadata": {},
   "outputs": [],
   "source": []
  }
 ],
 "metadata": {
  "kernelspec": {
   "display_name": "Python 3 (ipykernel)",
   "language": "python",
   "name": "python3"
  },
  "language_info": {
   "codemirror_mode": {
    "name": "ipython",
    "version": 3
   },
   "file_extension": ".py",
   "mimetype": "text/x-python",
   "name": "python",
   "nbconvert_exporter": "python",
   "pygments_lexer": "ipython3",
   "version": "3.11.5"
  }
 },
 "nbformat": 4,
 "nbformat_minor": 5
}
