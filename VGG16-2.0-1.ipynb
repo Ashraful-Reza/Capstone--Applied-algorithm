{
 "cells": [
  {
   "cell_type": "code",
   "execution_count": 1,
   "id": "71163661",
   "metadata": {},
   "outputs": [],
   "source": [
    "# ! pip install numpy"
   ]
  },
  {
   "cell_type": "code",
   "execution_count": 2,
   "id": "2007b9f0",
   "metadata": {},
   "outputs": [],
   "source": [
    "# ! pip install keras"
   ]
  },
  {
   "cell_type": "code",
   "execution_count": 3,
   "id": "a201bb43",
   "metadata": {},
   "outputs": [],
   "source": [
    "#  ! pip install tensorflow"
   ]
  },
  {
   "cell_type": "code",
   "execution_count": 4,
   "id": "8bdb9be3",
   "metadata": {},
   "outputs": [],
   "source": [
    "#  pip install opencv-python"
   ]
  },
  {
   "cell_type": "code",
   "execution_count": 18,
   "id": "f80a15a4",
   "metadata": {},
   "outputs": [],
   "source": [
    "import numpy as np\n",
    "from keras.preprocessing.image import ImageDataGenerator\n",
    "from keras.models import Sequential\n",
    "from keras.layers import Dropout, Flatten, Dense\n",
    "from keras.applications import VGG16\n",
    "import os"
   ]
  },
  {
   "cell_type": "code",
   "execution_count": 19,
   "id": "17a3698d",
   "metadata": {},
   "outputs": [],
   "source": [
    "# import os\n",
    "# import random\n",
    "# import shutil\n",
    "\n",
    "# # Set the path to the root folder\n",
    "# root_folder = 'H:/20 New class'\n",
    "\n",
    "# # Set the path to the new folder where the selected images will be copied\n",
    "# new_folder = 'H:/20_class_8k'\n",
    "\n",
    "\n",
    "# # Set the percentages for train, test, and validation\n",
    "# train_percentage = 0.7\n",
    "# test_percentage = 0.2\n",
    "# validation_percentage = 0.1\n",
    "\n",
    "# # Function to create the new folder if it doesn't exist\n",
    "# def create_folder(folder_path):\n",
    "#     if not os.path.exists(folder_path):\n",
    "#         os.makedirs(folder_path)\n",
    "\n",
    "# # Create the new folder structure for train, test, and validation\n",
    "# create_folder(os.path.join(new_folder, 'train'))\n",
    "# create_folder(os.path.join(new_folder, 'test'))\n",
    "# create_folder(os.path.join(new_folder, 'validation'))\n",
    "\n",
    "# # Iterate over the subfolders in the root folder\n",
    "# for folder_name in os.listdir(root_folder):\n",
    "#     folder_path = os.path.join(root_folder, folder_name)\n",
    "    \n",
    "#     if os.path.isdir(folder_path):\n",
    "#         # Get the list of images in the current subfolder\n",
    "#         images = os.listdir(folder_path)\n",
    "        \n",
    "#         # Shuffle the images randomly\n",
    "#         random.shuffle(images)\n",
    "        \n",
    "#         # Calculate the number of images for each set\n",
    "#         num_images = len(images)\n",
    "#         num_train = int(train_percentage * num_images)\n",
    "#         num_test = int(test_percentage * num_images)\n",
    "#         num_validation = int(validation_percentage * num_images)\n",
    "        \n",
    "#         # Create subfolders in the new folder structure\n",
    "#         create_folder(os.path.join(new_folder, 'train', folder_name))\n",
    "#         create_folder(os.path.join(new_folder, 'test', folder_name))\n",
    "#         create_folder(os.path.join(new_folder, 'validation', folder_name))\n",
    "        \n",
    "#         # Copy images to the train set\n",
    "#         for image_name in images[:num_train]:\n",
    "#             src_path = os.path.join(folder_path, image_name)\n",
    "#             dst_path = os.path.join(new_folder, 'train', folder_name, image_name)\n",
    "#             shutil.copy(src_path, dst_path)\n",
    "        \n",
    "#         # Copy images to the test set\n",
    "#         for image_name in images[num_train:num_train+num_test]:\n",
    "#             src_path = os.path.join(folder_path, image_name)\n",
    "#             dst_path = os.path.join(new_folder, 'test', folder_name, image_name)\n",
    "#             shutil.copy(src_path, dst_path)\n",
    "        \n",
    "#         # Copy images to the validation set\n",
    "#         for image_name in images[num_train+num_test:num_train+num_test+num_validation]:\n",
    "#             src_path = os.path.join(folder_path, image_name)\n",
    "#             dst_path = os.path.join(new_folder, 'validation', folder_name, image_name)\n",
    "#             shutil.copy(src_path, dst_path)\n"
   ]
  },
  {
   "cell_type": "code",
   "execution_count": 41,
   "id": "fa13eec5",
   "metadata": {},
   "outputs": [
    {
     "name": "stdout",
     "output_type": "stream",
     "text": [
      "Found 5600 images belonging to 20 classes.\n",
      "Found 800 images belonging to 20 classes.\n",
      "Found 1600 images belonging to 20 classes.\n"
     ]
    }
   ],
   "source": [
    "train_dir = 'H:/20_class_8k/Train'\n",
    "valid_dir = 'H:/20_class_8k/Validation'\n",
    "test_dir = 'H:/20_class_8k/Test'\n",
    "target_size = (224, 224)  # VGG16 input size\n",
    "\n",
    "datagen = ImageDataGenerator(rescale=1.0/255)\n",
    "\n",
    "train_generator = datagen.flow_from_directory(\n",
    "    train_dir,\n",
    "    target_size=target_size,\n",
    "    batch_size=32,\n",
    "    class_mode='categorical'\n",
    ")\n",
    "\n",
    "valid_generator = datagen.flow_from_directory(\n",
    "    valid_dir,\n",
    "    target_size=target_size,\n",
    "    batch_size=32,\\\n",
    "    class_mode='categorical',\n",
    "    shuffle=False\n",
    ")\n",
    "\n",
    "test_generator = datagen.flow_from_directory(\n",
    "    test_dir,\n",
    "    target_size=target_size,\n",
    "    batch_size=32,\n",
    "    class_mode='categorical',\n",
    "    shuffle=False\n",
    ")"
   ]
  },
  {
   "cell_type": "code",
   "execution_count": 42,
   "id": "1cb8c08d",
   "metadata": {},
   "outputs": [],
   "source": [
    "class_names = sorted(os.listdir(train_dir))"
   ]
  },
  {
   "cell_type": "code",
   "execution_count": 35,
   "id": "9842c2d0",
   "metadata": {},
   "outputs": [
    {
     "name": "stdout",
     "output_type": "stream",
     "text": [
      "Number Of Classes:  20\n"
     ]
    }
   ],
   "source": [
    "number_class=len(class_names)\n",
    "print(\"Number Of Classes: \",number_class)"
   ]
  },
  {
   "cell_type": "code",
   "execution_count": 36,
   "id": "9082b5dd",
   "metadata": {},
   "outputs": [
    {
     "name": "stdout",
     "output_type": "stream",
     "text": [
      "Classes name are :  ['ইউটার্ন', 'ইউটার্ন নেওয়া নিষেধ', 'একদিকে চলাচল', 'ওভারটেকিং নিষেধ', 'ট্র্যাক প্রবেশ নিষেধ', 'ডানদিকে মোড় নেওয়া নিষেধ', 'থামানো নিষেধ', 'পার্কিং', 'পার্কিং নিষেধ', 'প্রবেশ নিষেধ', 'বামদিকে মোড় নেওয়া নিষেধ', 'বাস স্ট্যান্ড', 'মসজিদ', 'রিকশা চলাচল নিষেধ', 'সামনে ডানদিকে আচমকা মোড় আছে', 'সামনে পথচারী পারাপার', 'সামনে বামদিকে পার্শ্ব রাস্তা আছে', 'সামনে স্কুল', 'হর্ন বাজানো নিষেধ', 'হাসপাতাল']\n"
     ]
    }
   ],
   "source": [
    "print(\"Classes name are : \",class_names)"
   ]
  },
  {
   "cell_type": "code",
   "execution_count": 37,
   "id": "b1b7f9c2",
   "metadata": {},
   "outputs": [],
   "source": [
    "base_model = VGG16(weights='imagenet', include_top=False, input_shape=(224, 224, 3))\n"
   ]
  },
  {
   "cell_type": "code",
   "execution_count": 38,
   "id": "2a2a61f9",
   "metadata": {},
   "outputs": [],
   "source": [
    "for layer in base_model.layers:\n",
    "    layer.trainable = False\n"
   ]
  },
  {
   "cell_type": "code",
   "execution_count": 39,
   "id": "d9a32d67",
   "metadata": {},
   "outputs": [],
   "source": [
    "model = Sequential()\n",
    "model.add(base_model)\n",
    "model.add(Flatten())\n",
    "model.add(Dense(256, activation='relu'))\n",
    "model.add(Dropout(0.5))\n",
    "model.add(Dense(len(class_names), activation='softmax'))  # num_classes is the number of classes in your dataset\n",
    "\n",
    "\n"
   ]
  },
  {
   "cell_type": "code",
   "execution_count": 40,
   "id": "ab322fc6",
   "metadata": {},
   "outputs": [],
   "source": [
    "model.compile(optimizer='adam', loss='categorical_crossentropy', metrics=['accuracy'])\n"
   ]
  },
  {
   "cell_type": "code",
   "execution_count": null,
   "id": "825ad0a2",
   "metadata": {},
   "outputs": [
    {
     "name": "stdout",
     "output_type": "stream",
     "text": [
      "Epoch 1/20\n",
      " 30/122 [======>.......................] - ETA: 11:07 - loss: 2.5499 - accuracy: 0.3375"
     ]
    }
   ],
   "source": [
    "model.fit(\n",
    "    train_generator,\n",
    "    steps_per_epoch=train_generator.n // train_generator.batch_size,\n",
    "    epochs=20,\n",
    "    validation_data=valid_generator,\n",
    "    validation_steps=valid_generator.n // valid_generator.batch_size\n",
    ")\n"
   ]
  },
  {
   "cell_type": "code",
   "execution_count": 31,
   "id": "3c48370d",
   "metadata": {},
   "outputs": [
    {
     "name": "stdout",
     "output_type": "stream",
     "text": [
      "17/17 [==============================] - 126s 8s/step - loss: 0.3012 - accuracy: 0.9375\n",
      "Test accuracy: 0.9375\n"
     ]
    }
   ],
   "source": [
    "test_loss, test_acc = model.evaluate(test_generator, steps=test_generator.n // test_generator.batch_size)\n",
    "print('Test accuracy:', test_acc)\n"
   ]
  },
  {
   "cell_type": "code",
   "execution_count": 32,
   "id": "cb397e51",
   "metadata": {},
   "outputs": [
    {
     "name": "stdout",
     "output_type": "stream",
     "text": [
      "17/17 [==============================] - 129s 8s/step\n"
     ]
    }
   ],
   "source": [
    "predictions = model.predict(test_generator, steps=test_generator.n // test_generator.batch_size)\n"
   ]
  },
  {
   "cell_type": "code",
   "execution_count": 34,
   "id": "6dff5381",
   "metadata": {},
   "outputs": [
    {
     "name": "stdout",
     "output_type": "stream",
     "text": [
      "1/1 [==============================] - 0s 190ms/step\n",
      "Predicted class: No Overtaking\n"
     ]
    }
   ],
   "source": [
    "import numpy as np\n",
    "from PIL import Image\n",
    "# Load the image\n",
    "image_path =\"H:\\\\Dataset\\\\train\\\\No Overtaking\\\\image (2).png\"\n",
    "img = Image.open(image_path)\n",
    "img = img.resize((224, 224))  # Resize the image to match the input size of VGG16\n",
    "\n",
    "# Convert the image to RGB mode\n",
    "img = img.convert(\"RGB\")\n",
    "\n",
    "# Preprocess the image\n",
    "img_array = np.array(img)\n",
    "img_array = img_array / 255.0  # Normalize the pixel values\n",
    "img_array = np.expand_dims(img_array, axis=0)  # Add a batch dimension\n",
    "\n",
    "# Make the prediction\n",
    "predictions = model.predict(img_array)\n",
    "predicted_class = np.argmax(predictions)\n",
    "\n",
    "print(\"Predicted class:\", class_names[predicted_class])\n"
   ]
  },
  {
   "cell_type": "code",
   "execution_count": null,
   "id": "bab4c332",
   "metadata": {},
   "outputs": [],
   "source": []
  }
 ],
 "metadata": {
  "kernelspec": {
   "display_name": "Python 3 (ipykernel)",
   "language": "python",
   "name": "python3"
  },
  "language_info": {
   "codemirror_mode": {
    "name": "ipython",
    "version": 3
   },
   "file_extension": ".py",
   "mimetype": "text/x-python",
   "name": "python",
   "nbconvert_exporter": "python",
   "pygments_lexer": "ipython3",
   "version": "3.10.9"
  }
 },
 "nbformat": 4,
 "nbformat_minor": 5
}
