{
 "cells": [
  {
   "cell_type": "code",
   "execution_count": null,
   "id": "3b0676a8-afb2-4a21-9cf0-f4aef5341941",
   "metadata": {},
   "outputs": [],
   "source": [
    "# %matplotlib inline\n",
    "# import os\n",
    "# import numpy as np\n",
    "# import tensorflow as tf\n",
    "# from PIL import image\n",
    "# from matplotlib import pyplot as plt\n",
    "# # print('using Tensflow version',tf.__version__)"
   ]
  },
  {
   "cell_type": "code",
   "execution_count": 56,
   "id": "b455f4b2-560e-40f6-9f00-026585a16ee7",
   "metadata": {},
   "outputs": [
    {
     "name": "stdout",
     "output_type": "stream",
     "text": [
      "Defaulting to user installation because normal site-packages is not writeable\n",
      "Requirement already satisfied: opencv-python in c:\\users\\tanjil\\appdata\\roaming\\python\\python310\\site-packages (4.7.0.72)\n",
      "Requirement already satisfied: numpy>=1.21.2 in c:\\programdata\\anaconda3\\lib\\site-packages (from opencv-python) (1.23.5)\n"
     ]
    },
    {
     "name": "stderr",
     "output_type": "stream",
     "text": [
      "\n",
      "[notice] A new release of pip is available: 23.1 -> 23.1.2\n",
      "[notice] To update, run: python.exe -m pip install --upgrade pip\n"
     ]
    }
   ],
   "source": [
    "# pip install tensorflow\n",
    "!pip install opencv-python"
   ]
  },
  {
   "cell_type": "code",
   "execution_count": 14,
   "id": "3c698c9d-01c7-4a44-91d6-213dd344b122",
   "metadata": {},
   "outputs": [],
   "source": [
    "# import tensorflow as tf\n",
    "# print(tf.__version__)\n",
    "from tensorflow.keras.preprocessing.image import ImageDataGenerator, array_to_img, img_to_array, load_img\n"
   ]
  },
  {
   "cell_type": "code",
   "execution_count": null,
   "id": "564f7b2d-ac59-4941-8453-11da01c47843",
   "metadata": {},
   "outputs": [],
   "source": [
    "# generator=tf.keras.preprocessing.Image.ImageDataGenerator(\n",
    "#     rotaion_range=40\n",
    "# )"
   ]
  },
  {
   "cell_type": "code",
   "execution_count": 10,
   "id": "ee3a65e3-ba6f-429f-84ae-2387f1fe29df",
   "metadata": {},
   "outputs": [],
   "source": [
    "from keras.preprocessing.image import ImageDataGenerator, array_to_img, img_to_array, load_img\n",
    "\n",
    "datagen = ImageDataGenerator(\n",
    "        rotation_range=40,\n",
    "        width_shift_range=0.2,\n",
    "        height_shift_range=0.2,\n",
    "        shear_range=0.2,\n",
    "        zoom_range=0.2,\n",
    "        horizontal_flip=True,\n",
    "        fill_mode='nearest')\n",
    "\n",
    "img = load_img('data/train/cats/cat.0.jpg')  # this is a PIL image\n",
    "x = img_to_array(img)  # this is a Numpy array with shape (3, 150, 150)\n",
    "x = x.reshape((1,) + x.shape)  # this is a Numpy array with shape (1, 3, 150, 150)\n",
    "\n",
    "# the .flow() command below generates batches of randomly transformed images\n",
    "# and saves the results to the `preview/` directory\n",
    "i = 0\n",
    "for batch in datagen.flow(x, batch_size=1,\n",
    "                          save_to_dir='preview', save_prefix='cat', save_format='jpeg'):\n",
    "    i += 1\n",
    "    if i > 20:\n",
    "        break  # otherwise the generator would loop indefinitely\n"
   ]
  },
  {
   "cell_type": "code",
   "execution_count": 19,
   "id": "3a0fdeb2-fda0-451f-a069-6dbc3c3ed519",
   "metadata": {},
   "outputs": [
    {
     "name": "stdout",
     "output_type": "stream",
     "text": [
      "C:\\Users\\TANJIL\\Desktop\\capstone\n"
     ]
    }
   ],
   "source": [
    "import os\n",
    "print(os.getcwd())\n",
    "\n",
    "from tensorflow.keras.preprocessing.image import ImageDataGenerator, array_to_img, img_to_array, load_img\n",
    "\n",
    "datagen = ImageDataGenerator(\n",
    "        rotation_range=40,\n",
    "        width_shift_range=0.2,\n",
    "        height_shift_range=0.2,\n",
    "        shear_range=0.2,\n",
    "        zoom_range=0.2,\n",
    "        horizontal_flip=True,\n",
    "        fill_mode='nearest')\n",
    "\n",
    "dir_path = 'H:/tana nannaaaa/Advance Direction Sign/' # replace with your directory path\n",
    "save_dir_path = 'H:\\tana nannaaaa\\Advance Direction Sign\\preview' # replace with the directory where you want to save the augmented images\n",
    "\n",
    "for filename in os.listdir(dir_path):\n",
    "    if filename.endswith('.jpg'):\n",
    "        img_path = os.path.join(dir_path, filename)\n",
    "        img = load_img(img_path)  # this is a PIL image\n",
    "        x = img_to_array(img)  # this is a Numpy array with shape (3, 150, 150)\n",
    "        x = x.reshape((1,) + x.shape)  # this is a Numpy array with shape (1, 3, 150, 150)\n",
    "\n",
    "        # the .flow() command below generates batches of randomly transformed images\n",
    "        # and saves the results to the `preview/` directory\n",
    "        i = 0\n",
    "        for batch in datagen.flow(x, batch_size=1,\n",
    "                                  save_to_dir=save_dir_path, save_prefix=filename[:-4], save_format='jpeg'):\n",
    "            i += 1\n",
    "            if i > 20:\n",
    "                break  # otherwise the generator would loop indefinitely\n"
   ]
  },
  {
   "cell_type": "code",
   "execution_count": 69,
   "id": "30d2c3d8-0100-4296-a152-2b9b8392bb26",
   "metadata": {},
   "outputs": [],
   "source": [
    "import os\n",
    "import glob\n",
    "\n",
    "from tensorflow.keras.preprocessing.image import ImageDataGenerator, array_to_img, img_to_array, load_img\n",
    "\n",
    "datagen = ImageDataGenerator(\n",
    "        rotation_range=40,\n",
    "        width_shift_range=0.2,\n",
    "        height_shift_range=0.2,\n",
    "        shear_range=0.2,\n",
    "        zoom_range=0.2,\n",
    "        horizontal_flip=True,\n",
    "        fill_mode='nearest')\n",
    "\n",
    "dir_path = 'H:/final/School' # replace with your directory path\n",
    "save_dir_path = 'H:/final/School' # replace with the directory where you want to save the augmented images\n",
    "\n",
    "# select all images from the directory\n",
    "file_list = glob.glob(os.path.join(dir_path, '*.png'))\n",
    "\n",
    "for img_path in file_list:\n",
    "    img = load_img(img_path)  # this is a PIL image\n",
    "    x = img_to_array(img)  # this is a Numpy array with shape (3, 150, 150)\n",
    "    x = x.reshape((1,) + x.shape)  # this is a Numpy array with shape (1, 3, 150, 150)\n",
    "\n",
    "    # the .flow() command below generates batches of randomly transformed images\n",
    "    # and saves the results to the `preview/` directory\n",
    "    i = 0\n",
    "    for batch in datagen.flow(x, batch_size=1,\n",
    "                              save_to_dir=save_dir_path, save_prefix=os.path.basename(img_path)[:-4], save_format='png'):\n",
    "        i += 1\n",
    "        if i > 20:\n",
    "            break  # otherwise the generator would loop indefinitely\n"
   ]
  },
  {
   "cell_type": "code",
   "execution_count": 2,
   "id": "a3841229-129c-46ab-a22f-29c9049bfde7",
   "metadata": {},
   "outputs": [],
   "source": [
    "import os\n",
    "import cv2\n",
    "import glob\n",
    "\n",
    "from tensorflow.keras.preprocessing.image import ImageDataGenerator, array_to_img, img_to_array, load_img\n",
    "\n",
    "datagen = ImageDataGenerator(\n",
    "        rotation_range=40,\n",
    "        width_shift_range=0.2,\n",
    "        height_shift_range=0.2,\n",
    "        shear_range=0.2,\n",
    "        zoom_range=0.2,\n",
    "        brightness_range=[0.5, 1.5],\n",
    "        #horizontal_flip=True,\n",
    "        fill_mode='nearest',\n",
    "        preprocessing_function=lambda x: x if datagen.gaussian_sigma == 0 else cv2.GaussianBlur(x,(0,0),datagen.gaussian_sigma)\n",
    "        )\n",
    "\n",
    "datagen.gaussian_sigma = 1 # set the Gaussian blur standard deviation\n",
    "\n",
    "dir_path = 'H:/augmentation/1 photo each/Advance Direction Sign' # replace with your directory path\n",
    "save_dir_path = 'H:/augmentation/1 photo each/Advance Direction Sign' # replace with the directory where you want to save the augmented images\n",
    "\n",
    "# select all images from the directory\n",
    "file_list = glob.glob(os.path.join(dir_path, '*.png'))\n",
    "\n",
    "for img_path in file_list:\n",
    "    img = load_img(img_path)  # this is a PIL image\n",
    "    x = img_to_array(img)  # this is a Numpy array with shape (3, 150, 150)\n",
    "    x = x.reshape((1,) + x.shape)  # this is a Numpy array with shape (1, 3, 600, 600)\n",
    "\n",
    "    # the .flow() command below generates batches of randomly transformed images\n",
    "    # and saves the results to the `preview/` directory\n",
    "    i = 0\n",
    "    for batch in datagen.flow(x, batch_size=1,\n",
    "                              save_to_dir=save_dir_path, save_prefix=os.path.basename(img_path)[:-4], save_format='png'):\n",
    "        i += 1\n",
    "        if i > 30:\n",
    "            break  # otherwise the generator would loop indefinitely\n"
   ]
  },
  {
   "cell_type": "markdown",
   "id": "6acb47f5-daff-4a30-a6d3-18dc1cd3c169",
   "metadata": {},
   "source": []
  },
  {
   "cell_type": "code",
   "execution_count": 9,
   "id": "40260560",
   "metadata": {},
   "outputs": [
    {
     "ename": "SyntaxError",
     "evalue": "positional argument follows keyword argument (1304404046.py, line 13)",
     "output_type": "error",
     "traceback": [
      "\u001b[1;36m  Cell \u001b[1;32mIn[9], line 13\u001b[1;36m\u001b[0m\n\u001b[1;33m    width_shift_range=0.2,0.3,\u001b[0m\n\u001b[1;37m                             ^\u001b[0m\n\u001b[1;31mSyntaxError\u001b[0m\u001b[1;31m:\u001b[0m positional argument follows keyword argument\n"
     ]
    }
   ],
   "source": [
    "import os\n",
    "import cv2\n",
    "import glob\n",
    "\n",
    "from tensorflow.keras.preprocessing.image import ImageDataGenerator, array_to_img, img_to_array, load_img\n",
    "\n",
    "def apply_gaussian_blur(img, sigma):\n",
    "    blurred = cv2.GaussianBlur(img, (0, 0), sigma)\n",
    "    return blurred\n",
    "\n",
    "datagen = ImageDataGenerator(\n",
    "        rotation_range=40,\n",
    "        width_shift_range=0.2,\n",
    "        height_shift_range=0.2,\n",
    "        shear_range=0.2,\n",
    "        zoom_range=0.2,\n",
    "        brightness_range=[0.5, 1.5],\n",
    "        horizontal_flip=True,\n",
    "        fill_mode='nearest',\n",
    "        preprocessing_function=lambda x: apply_gaussian_blur(x, 1)\n",
    "        )\n",
    "\n",
    "dir_path = 'H:/Capstone_dataset25/No left turn' # replace with your directory path\n",
    "save_dir_path = 'H:/Capstone_dataset25/No left turn' # replace with the directory where you want to save the augmented images\n",
    "\n",
    "# select all images from the directory\n",
    "file_list = glob.glob(os.path.join(dir_path, '*.png'))\n",
    "\n",
    "for img_path in file_list:\n",
    "    img = load_img(img_path)  # this is a PIL image\n",
    "    x = img_to_array(img)  # this is a Numpy array with shape (3, 150, 150)\n",
    "    x = x.reshape((1,) + x.shape)  # this is a Numpy array with shape (1, 3, 600, 600)\n",
    "\n",
    "    # the .flow() command below generates batches of randomly transformed images\n",
    "    # and saves the results to the `preview/` directory\n",
    "    i = 0\n",
    "    for batch in datagen.flow(x, batch_size=1,\n",
    "                              save_to_dir=save_dir_path, save_prefix=os.path.basename(img_path)[:-4], save_format='png'):\n",
    "        i += 1\n",
    "        if i > 408:\n",
    "            break  # otherwise the generator would loop indefinitely\n"
   ]
  },
  {
   "cell_type": "code",
   "execution_count": null,
   "id": "648c5700",
   "metadata": {},
   "outputs": [],
   "source": []
  }
 ],
 "metadata": {
  "kernelspec": {
   "display_name": "Python 3 (ipykernel)",
   "language": "python",
   "name": "python3"
  },
  "language_info": {
   "codemirror_mode": {
    "name": "ipython",
    "version": 3
   },
   "file_extension": ".py",
   "mimetype": "text/x-python",
   "name": "python",
   "nbconvert_exporter": "python",
   "pygments_lexer": "ipython3",
   "version": "3.10.9"
  }
 },
 "nbformat": 4,
 "nbformat_minor": 5
}
