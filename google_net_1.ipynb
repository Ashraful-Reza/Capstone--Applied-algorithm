{
 "cells": [
  {
   "cell_type": "code",
   "execution_count": 1,
   "id": "3e9eb93e",
   "metadata": {},
   "outputs": [],
   "source": [
    "import os\n",
    "import numpy as np\n",
    "import pandas as pd\n",
    "from tensorflow.keras.preprocessing.image import ImageDataGenerator\n",
    "from tensorflow.keras.applications import InceptionV3\n",
    "from tensorflow.keras.models import Sequential\n",
    "from tensorflow.keras.layers import Dense, GlobalAveragePooling2D\n",
    "from tensorflow.keras.optimizers import Adam\n",
    "import tensorflow as tf"
   ]
  },
  {
   "cell_type": "code",
   "execution_count": 2,
   "id": "27228f53",
   "metadata": {},
   "outputs": [
    {
     "name": "stdout",
     "output_type": "stream",
     "text": [
      "WARNING:tensorflow:From C:\\Users\\TANJIL\\AppData\\Local\\Temp\\ipykernel_15044\\337460670.py:1: is_gpu_available (from tensorflow.python.framework.test_util) is deprecated and will be removed in a future version.\n",
      "Instructions for updating:\n",
      "Use `tf.config.list_physical_devices('GPU')` instead.\n"
     ]
    },
    {
     "data": {
      "text/plain": [
       "False"
      ]
     },
     "execution_count": 2,
     "metadata": {},
     "output_type": "execute_result"
    }
   ],
   "source": [
    "tf.test.is_gpu_available()"
   ]
  },
  {
   "cell_type": "code",
   "execution_count": 3,
   "id": "f264920d",
   "metadata": {},
   "outputs": [],
   "source": [
    "dataset_dir = \"H:/Alexnet/Photo(last)\"\n",
    "input_shape = (224, 224, 3)\n"
   ]
  },
  {
   "cell_type": "code",
   "execution_count": 4,
   "id": "41ceb717",
   "metadata": {},
   "outputs": [],
   "source": [
    "batch_size = 32\n",
    "epochs = 10\n"
   ]
  },
  {
   "cell_type": "code",
   "execution_count": 5,
   "id": "69d93506",
   "metadata": {},
   "outputs": [],
   "source": [
    "class_names = sorted(os.listdir(dataset_dir))\n",
    "num_classes = len(class_names)\n"
   ]
  },
  {
   "cell_type": "code",
   "execution_count": 6,
   "id": "c0fb2f6d",
   "metadata": {},
   "outputs": [
    {
     "name": "stderr",
     "output_type": "stream",
     "text": [
      "C:\\Users\\TANJIL\\AppData\\Local\\Temp\\ipykernel_15044\\3524949522.py:8: FutureWarning: The frame.append method is deprecated and will be removed from pandas in a future version. Use pandas.concat instead.\n",
      "  df = df.append(pd.DataFrame({\"filepath\": filepaths, \"class\": str(class_index)}))\n",
      "C:\\Users\\TANJIL\\AppData\\Local\\Temp\\ipykernel_15044\\3524949522.py:8: FutureWarning: The frame.append method is deprecated and will be removed from pandas in a future version. Use pandas.concat instead.\n",
      "  df = df.append(pd.DataFrame({\"filepath\": filepaths, \"class\": str(class_index)}))\n",
      "C:\\Users\\TANJIL\\AppData\\Local\\Temp\\ipykernel_15044\\3524949522.py:8: FutureWarning: The frame.append method is deprecated and will be removed from pandas in a future version. Use pandas.concat instead.\n",
      "  df = df.append(pd.DataFrame({\"filepath\": filepaths, \"class\": str(class_index)}))\n",
      "C:\\Users\\TANJIL\\AppData\\Local\\Temp\\ipykernel_15044\\3524949522.py:8: FutureWarning: The frame.append method is deprecated and will be removed from pandas in a future version. Use pandas.concat instead.\n",
      "  df = df.append(pd.DataFrame({\"filepath\": filepaths, \"class\": str(class_index)}))\n",
      "C:\\Users\\TANJIL\\AppData\\Local\\Temp\\ipykernel_15044\\3524949522.py:8: FutureWarning: The frame.append method is deprecated and will be removed from pandas in a future version. Use pandas.concat instead.\n",
      "  df = df.append(pd.DataFrame({\"filepath\": filepaths, \"class\": str(class_index)}))\n",
      "C:\\Users\\TANJIL\\AppData\\Local\\Temp\\ipykernel_15044\\3524949522.py:8: FutureWarning: The frame.append method is deprecated and will be removed from pandas in a future version. Use pandas.concat instead.\n",
      "  df = df.append(pd.DataFrame({\"filepath\": filepaths, \"class\": str(class_index)}))\n",
      "C:\\Users\\TANJIL\\AppData\\Local\\Temp\\ipykernel_15044\\3524949522.py:8: FutureWarning: The frame.append method is deprecated and will be removed from pandas in a future version. Use pandas.concat instead.\n",
      "  df = df.append(pd.DataFrame({\"filepath\": filepaths, \"class\": str(class_index)}))\n",
      "C:\\Users\\TANJIL\\AppData\\Local\\Temp\\ipykernel_15044\\3524949522.py:8: FutureWarning: The frame.append method is deprecated and will be removed from pandas in a future version. Use pandas.concat instead.\n",
      "  df = df.append(pd.DataFrame({\"filepath\": filepaths, \"class\": str(class_index)}))\n",
      "C:\\Users\\TANJIL\\AppData\\Local\\Temp\\ipykernel_15044\\3524949522.py:8: FutureWarning: The frame.append method is deprecated and will be removed from pandas in a future version. Use pandas.concat instead.\n",
      "  df = df.append(pd.DataFrame({\"filepath\": filepaths, \"class\": str(class_index)}))\n",
      "C:\\Users\\TANJIL\\AppData\\Local\\Temp\\ipykernel_15044\\3524949522.py:8: FutureWarning: The frame.append method is deprecated and will be removed from pandas in a future version. Use pandas.concat instead.\n",
      "  df = df.append(pd.DataFrame({\"filepath\": filepaths, \"class\": str(class_index)}))\n",
      "C:\\Users\\TANJIL\\AppData\\Local\\Temp\\ipykernel_15044\\3524949522.py:8: FutureWarning: The frame.append method is deprecated and will be removed from pandas in a future version. Use pandas.concat instead.\n",
      "  df = df.append(pd.DataFrame({\"filepath\": filepaths, \"class\": str(class_index)}))\n",
      "C:\\Users\\TANJIL\\AppData\\Local\\Temp\\ipykernel_15044\\3524949522.py:8: FutureWarning: The frame.append method is deprecated and will be removed from pandas in a future version. Use pandas.concat instead.\n",
      "  df = df.append(pd.DataFrame({\"filepath\": filepaths, \"class\": str(class_index)}))\n",
      "C:\\Users\\TANJIL\\AppData\\Local\\Temp\\ipykernel_15044\\3524949522.py:8: FutureWarning: The frame.append method is deprecated and will be removed from pandas in a future version. Use pandas.concat instead.\n",
      "  df = df.append(pd.DataFrame({\"filepath\": filepaths, \"class\": str(class_index)}))\n",
      "C:\\Users\\TANJIL\\AppData\\Local\\Temp\\ipykernel_15044\\3524949522.py:8: FutureWarning: The frame.append method is deprecated and will be removed from pandas in a future version. Use pandas.concat instead.\n",
      "  df = df.append(pd.DataFrame({\"filepath\": filepaths, \"class\": str(class_index)}))\n",
      "C:\\Users\\TANJIL\\AppData\\Local\\Temp\\ipykernel_15044\\3524949522.py:8: FutureWarning: The frame.append method is deprecated and will be removed from pandas in a future version. Use pandas.concat instead.\n",
      "  df = df.append(pd.DataFrame({\"filepath\": filepaths, \"class\": str(class_index)}))\n",
      "C:\\Users\\TANJIL\\AppData\\Local\\Temp\\ipykernel_15044\\3524949522.py:8: FutureWarning: The frame.append method is deprecated and will be removed from pandas in a future version. Use pandas.concat instead.\n",
      "  df = df.append(pd.DataFrame({\"filepath\": filepaths, \"class\": str(class_index)}))\n",
      "C:\\Users\\TANJIL\\AppData\\Local\\Temp\\ipykernel_15044\\3524949522.py:8: FutureWarning: The frame.append method is deprecated and will be removed from pandas in a future version. Use pandas.concat instead.\n",
      "  df = df.append(pd.DataFrame({\"filepath\": filepaths, \"class\": str(class_index)}))\n",
      "C:\\Users\\TANJIL\\AppData\\Local\\Temp\\ipykernel_15044\\3524949522.py:8: FutureWarning: The frame.append method is deprecated and will be removed from pandas in a future version. Use pandas.concat instead.\n",
      "  df = df.append(pd.DataFrame({\"filepath\": filepaths, \"class\": str(class_index)}))\n",
      "C:\\Users\\TANJIL\\AppData\\Local\\Temp\\ipykernel_15044\\3524949522.py:8: FutureWarning: The frame.append method is deprecated and will be removed from pandas in a future version. Use pandas.concat instead.\n",
      "  df = df.append(pd.DataFrame({\"filepath\": filepaths, \"class\": str(class_index)}))\n",
      "C:\\Users\\TANJIL\\AppData\\Local\\Temp\\ipykernel_15044\\3524949522.py:8: FutureWarning: The frame.append method is deprecated and will be removed from pandas in a future version. Use pandas.concat instead.\n",
      "  df = df.append(pd.DataFrame({\"filepath\": filepaths, \"class\": str(class_index)}))\n",
      "C:\\Users\\TANJIL\\AppData\\Local\\Temp\\ipykernel_15044\\3524949522.py:8: FutureWarning: The frame.append method is deprecated and will be removed from pandas in a future version. Use pandas.concat instead.\n",
      "  df = df.append(pd.DataFrame({\"filepath\": filepaths, \"class\": str(class_index)}))\n",
      "C:\\Users\\TANJIL\\AppData\\Local\\Temp\\ipykernel_15044\\3524949522.py:8: FutureWarning: The frame.append method is deprecated and will be removed from pandas in a future version. Use pandas.concat instead.\n",
      "  df = df.append(pd.DataFrame({\"filepath\": filepaths, \"class\": str(class_index)}))\n",
      "C:\\Users\\TANJIL\\AppData\\Local\\Temp\\ipykernel_15044\\3524949522.py:8: FutureWarning: The frame.append method is deprecated and will be removed from pandas in a future version. Use pandas.concat instead.\n",
      "  df = df.append(pd.DataFrame({\"filepath\": filepaths, \"class\": str(class_index)}))\n",
      "C:\\Users\\TANJIL\\AppData\\Local\\Temp\\ipykernel_15044\\3524949522.py:8: FutureWarning: The frame.append method is deprecated and will be removed from pandas in a future version. Use pandas.concat instead.\n",
      "  df = df.append(pd.DataFrame({\"filepath\": filepaths, \"class\": str(class_index)}))\n",
      "C:\\Users\\TANJIL\\AppData\\Local\\Temp\\ipykernel_15044\\3524949522.py:8: FutureWarning: The frame.append method is deprecated and will be removed from pandas in a future version. Use pandas.concat instead.\n",
      "  df = df.append(pd.DataFrame({\"filepath\": filepaths, \"class\": str(class_index)}))\n",
      "C:\\Users\\TANJIL\\AppData\\Local\\Temp\\ipykernel_15044\\3524949522.py:8: FutureWarning: The frame.append method is deprecated and will be removed from pandas in a future version. Use pandas.concat instead.\n",
      "  df = df.append(pd.DataFrame({\"filepath\": filepaths, \"class\": str(class_index)}))\n",
      "C:\\Users\\TANJIL\\AppData\\Local\\Temp\\ipykernel_15044\\3524949522.py:8: FutureWarning: The frame.append method is deprecated and will be removed from pandas in a future version. Use pandas.concat instead.\n",
      "  df = df.append(pd.DataFrame({\"filepath\": filepaths, \"class\": str(class_index)}))\n",
      "C:\\Users\\TANJIL\\AppData\\Local\\Temp\\ipykernel_15044\\3524949522.py:8: FutureWarning: The frame.append method is deprecated and will be removed from pandas in a future version. Use pandas.concat instead.\n",
      "  df = df.append(pd.DataFrame({\"filepath\": filepaths, \"class\": str(class_index)}))\n",
      "C:\\Users\\TANJIL\\AppData\\Local\\Temp\\ipykernel_15044\\3524949522.py:8: FutureWarning: The frame.append method is deprecated and will be removed from pandas in a future version. Use pandas.concat instead.\n",
      "  df = df.append(pd.DataFrame({\"filepath\": filepaths, \"class\": str(class_index)}))\n",
      "C:\\Users\\TANJIL\\AppData\\Local\\Temp\\ipykernel_15044\\3524949522.py:8: FutureWarning: The frame.append method is deprecated and will be removed from pandas in a future version. Use pandas.concat instead.\n",
      "  df = df.append(pd.DataFrame({\"filepath\": filepaths, \"class\": str(class_index)}))\n",
      "C:\\Users\\TANJIL\\AppData\\Local\\Temp\\ipykernel_15044\\3524949522.py:8: FutureWarning: The frame.append method is deprecated and will be removed from pandas in a future version. Use pandas.concat instead.\n",
      "  df = df.append(pd.DataFrame({\"filepath\": filepaths, \"class\": str(class_index)}))\n",
      "C:\\Users\\TANJIL\\AppData\\Local\\Temp\\ipykernel_15044\\3524949522.py:8: FutureWarning: The frame.append method is deprecated and will be removed from pandas in a future version. Use pandas.concat instead.\n",
      "  df = df.append(pd.DataFrame({\"filepath\": filepaths, \"class\": str(class_index)}))\n"
     ]
    },
    {
     "name": "stderr",
     "output_type": "stream",
     "text": [
      "C:\\Users\\TANJIL\\AppData\\Local\\Temp\\ipykernel_15044\\3524949522.py:8: FutureWarning: The frame.append method is deprecated and will be removed from pandas in a future version. Use pandas.concat instead.\n",
      "  df = df.append(pd.DataFrame({\"filepath\": filepaths, \"class\": str(class_index)}))\n",
      "C:\\Users\\TANJIL\\AppData\\Local\\Temp\\ipykernel_15044\\3524949522.py:8: FutureWarning: The frame.append method is deprecated and will be removed from pandas in a future version. Use pandas.concat instead.\n",
      "  df = df.append(pd.DataFrame({\"filepath\": filepaths, \"class\": str(class_index)}))\n",
      "C:\\Users\\TANJIL\\AppData\\Local\\Temp\\ipykernel_15044\\3524949522.py:8: FutureWarning: The frame.append method is deprecated and will be removed from pandas in a future version. Use pandas.concat instead.\n",
      "  df = df.append(pd.DataFrame({\"filepath\": filepaths, \"class\": str(class_index)}))\n",
      "C:\\Users\\TANJIL\\AppData\\Local\\Temp\\ipykernel_15044\\3524949522.py:8: FutureWarning: The frame.append method is deprecated and will be removed from pandas in a future version. Use pandas.concat instead.\n",
      "  df = df.append(pd.DataFrame({\"filepath\": filepaths, \"class\": str(class_index)}))\n",
      "C:\\Users\\TANJIL\\AppData\\Local\\Temp\\ipykernel_15044\\3524949522.py:8: FutureWarning: The frame.append method is deprecated and will be removed from pandas in a future version. Use pandas.concat instead.\n",
      "  df = df.append(pd.DataFrame({\"filepath\": filepaths, \"class\": str(class_index)}))\n",
      "C:\\Users\\TANJIL\\AppData\\Local\\Temp\\ipykernel_15044\\3524949522.py:8: FutureWarning: The frame.append method is deprecated and will be removed from pandas in a future version. Use pandas.concat instead.\n",
      "  df = df.append(pd.DataFrame({\"filepath\": filepaths, \"class\": str(class_index)}))\n",
      "C:\\Users\\TANJIL\\AppData\\Local\\Temp\\ipykernel_15044\\3524949522.py:8: FutureWarning: The frame.append method is deprecated and will be removed from pandas in a future version. Use pandas.concat instead.\n",
      "  df = df.append(pd.DataFrame({\"filepath\": filepaths, \"class\": str(class_index)}))\n",
      "C:\\Users\\TANJIL\\AppData\\Local\\Temp\\ipykernel_15044\\3524949522.py:8: FutureWarning: The frame.append method is deprecated and will be removed from pandas in a future version. Use pandas.concat instead.\n",
      "  df = df.append(pd.DataFrame({\"filepath\": filepaths, \"class\": str(class_index)}))\n",
      "C:\\Users\\TANJIL\\AppData\\Local\\Temp\\ipykernel_15044\\3524949522.py:8: FutureWarning: The frame.append method is deprecated and will be removed from pandas in a future version. Use pandas.concat instead.\n",
      "  df = df.append(pd.DataFrame({\"filepath\": filepaths, \"class\": str(class_index)}))\n",
      "C:\\Users\\TANJIL\\AppData\\Local\\Temp\\ipykernel_15044\\3524949522.py:8: FutureWarning: The frame.append method is deprecated and will be removed from pandas in a future version. Use pandas.concat instead.\n",
      "  df = df.append(pd.DataFrame({\"filepath\": filepaths, \"class\": str(class_index)}))\n",
      "C:\\Users\\TANJIL\\AppData\\Local\\Temp\\ipykernel_15044\\3524949522.py:8: FutureWarning: The frame.append method is deprecated and will be removed from pandas in a future version. Use pandas.concat instead.\n",
      "  df = df.append(pd.DataFrame({\"filepath\": filepaths, \"class\": str(class_index)}))\n",
      "C:\\Users\\TANJIL\\AppData\\Local\\Temp\\ipykernel_15044\\3524949522.py:8: FutureWarning: The frame.append method is deprecated and will be removed from pandas in a future version. Use pandas.concat instead.\n",
      "  df = df.append(pd.DataFrame({\"filepath\": filepaths, \"class\": str(class_index)}))\n",
      "C:\\Users\\TANJIL\\AppData\\Local\\Temp\\ipykernel_15044\\3524949522.py:8: FutureWarning: The frame.append method is deprecated and will be removed from pandas in a future version. Use pandas.concat instead.\n",
      "  df = df.append(pd.DataFrame({\"filepath\": filepaths, \"class\": str(class_index)}))\n",
      "C:\\Users\\TANJIL\\AppData\\Local\\Temp\\ipykernel_15044\\3524949522.py:8: FutureWarning: The frame.append method is deprecated and will be removed from pandas in a future version. Use pandas.concat instead.\n",
      "  df = df.append(pd.DataFrame({\"filepath\": filepaths, \"class\": str(class_index)}))\n",
      "C:\\Users\\TANJIL\\AppData\\Local\\Temp\\ipykernel_15044\\3524949522.py:8: FutureWarning: The frame.append method is deprecated and will be removed from pandas in a future version. Use pandas.concat instead.\n",
      "  df = df.append(pd.DataFrame({\"filepath\": filepaths, \"class\": str(class_index)}))\n"
     ]
    }
   ],
   "source": [
    "df = pd.DataFrame(columns=[\"filepath\", \"class\"])\n",
    "\n",
    "for class_index, class_name in enumerate(class_names):\n",
    "    class_dir = os.path.join(dataset_dir, class_name)\n",
    "    filenames = os.listdir(class_dir)\n",
    "    filepaths = [os.path.join(class_dir, filename) for filename in filenames]\n",
    "    \n",
    "    df = df.append(pd.DataFrame({\"filepath\": filepaths, \"class\": str(class_index)}))\n",
    "\n",
    "df = df.reset_index(drop=True)\n"
   ]
  },
  {
   "cell_type": "code",
   "execution_count": 7,
   "id": "c9bba6bc",
   "metadata": {},
   "outputs": [],
   "source": [
    "train_df = df.sample(frac=0.7, random_state=42)\n",
    "test_df = df.drop(train_df.index)\n",
    "val_df = test_df.sample(frac=0.5, random_state=42)\n",
    "test_df = test_df.drop(val_df.index)\n"
   ]
  },
  {
   "cell_type": "code",
   "execution_count": 8,
   "id": "f7b4930a",
   "metadata": {},
   "outputs": [
    {
     "name": "stdout",
     "output_type": "stream",
     "text": [
      "Found 1298 validated image filenames belonging to 47 classes.\n",
      "Found 279 validated image filenames belonging to 47 classes.\n",
      "Found 278 validated image filenames belonging to 47 classes.\n"
     ]
    }
   ],
   "source": [
    "train_datagen = ImageDataGenerator(rescale=1./255, shear_range=0.2, zoom_range=0.2, horizontal_flip=True)\n",
    "test_datagen = ImageDataGenerator(rescale=1./255)\n",
    "\n",
    "train_generator = train_datagen.flow_from_dataframe(dataframe=train_df, x_col=\"filepath\", y_col=\"class\",\n",
    "                                                    target_size=input_shape[:2], batch_size=batch_size,\n",
    "                                                    class_mode=\"categorical\", shuffle=True)\n",
    "test_generator = test_datagen.flow_from_dataframe(dataframe=test_df, x_col=\"filepath\", y_col=\"class\",\n",
    "                                                  target_size=input_shape[:2], batch_size=batch_size,\n",
    "                                                  class_mode=\"categorical\", shuffle=False)\n",
    "val_generator = test_datagen.flow_from_dataframe(dataframe=val_df, x_col=\"filepath\", y_col=\"class\",\n",
    "                                                 target_size=input_shape[:2], batch_size=batch_size,\n",
    "                                                 class_mode=\"categorical\", shuffle=False)\n"
   ]
  },
  {
   "cell_type": "code",
   "execution_count": 9,
   "id": "b99c8668",
   "metadata": {},
   "outputs": [],
   "source": [
    "base_model = InceptionV3(weights=\"imagenet\", include_top=False, input_shape=input_shape)\n",
    "model = Sequential()\n",
    "model.add(base_model)\n",
    "model.add(GlobalAveragePooling2D())\n",
    "model.add(Dense(1024, activation=\"relu\"))\n",
    "model.add(Dense(num_classes, activation=\"softmax\"))\n"
   ]
  },
  {
   "cell_type": "code",
   "execution_count": 10,
   "id": "c625449a",
   "metadata": {},
   "outputs": [
    {
     "name": "stdout",
     "output_type": "stream",
     "text": [
      "Epoch 1/10\n",
      "40/40 [==============================] - 379s 9s/step - loss: 2.1237 - accuracy: 0.5608 - val_loss: 0.5596 - val_accuracy: 0.8555\n",
      "Epoch 2/10\n",
      "40/40 [==============================] - 336s 8s/step - loss: 0.1855 - accuracy: 0.9494 - val_loss: 0.1620 - val_accuracy: 0.9453\n",
      "Epoch 3/10\n",
      "40/40 [==============================] - 316s 8s/step - loss: 0.0945 - accuracy: 0.9660 - val_loss: 0.1059 - val_accuracy: 0.9570\n",
      "Epoch 4/10\n",
      "40/40 [==============================] - 326s 8s/step - loss: 0.0836 - accuracy: 0.9652 - val_loss: 0.1650 - val_accuracy: 0.9570\n",
      "Epoch 5/10\n",
      "40/40 [==============================] - 312s 8s/step - loss: 0.0730 - accuracy: 0.9684 - val_loss: 0.0799 - val_accuracy: 0.9531\n",
      "Epoch 6/10\n",
      "40/40 [==============================] - 310s 8s/step - loss: 0.0734 - accuracy: 0.9708 - val_loss: 0.0956 - val_accuracy: 0.9648\n",
      "Epoch 7/10\n",
      "40/40 [==============================] - 308s 8s/step - loss: 0.0557 - accuracy: 0.9731 - val_loss: 0.0917 - val_accuracy: 0.9609\n",
      "Epoch 8/10\n",
      "40/40 [==============================] - 307s 8s/step - loss: 0.0611 - accuracy: 0.9668 - val_loss: 0.1075 - val_accuracy: 0.9570\n",
      "Epoch 9/10\n",
      "40/40 [==============================] - 309s 8s/step - loss: 0.0514 - accuracy: 0.9771 - val_loss: 0.0791 - val_accuracy: 0.9688\n",
      "Epoch 10/10\n",
      "40/40 [==============================] - 308s 8s/step - loss: 0.0523 - accuracy: 0.9795 - val_loss: 0.0943 - val_accuracy: 0.9688\n"
     ]
    },
    {
     "data": {
      "text/plain": [
       "<keras.callbacks.History at 0x188e9171f30>"
      ]
     },
     "execution_count": 10,
     "metadata": {},
     "output_type": "execute_result"
    }
   ],
   "source": [
    "model.compile(optimizer=Adam(learning_rate=0.0001), loss=\"categorical_crossentropy\", metrics=[\"accuracy\"])\n",
    "\n",
    "model.fit(train_generator, steps_per_epoch=train_generator.n // train_generator.batch_size,\n",
    "          epochs=epochs, validation_data=val_generator, validation_steps=val_generator.n // val_generator.batch_size)\n"
   ]
  },
  {
   "cell_type": "code",
   "execution_count": 11,
   "id": "25afe37c",
   "metadata": {},
   "outputs": [
    {
     "name": "stdout",
     "output_type": "stream",
     "text": [
      "8/8 [==============================] - 9s 1s/step - loss: 0.1324 - accuracy: 0.9531\n",
      "Test Accuracy: 0.953125\n"
     ]
    }
   ],
   "source": [
    "test_loss, test_accuracy = model.evaluate(test_generator, steps=test_generator.n // test_generator.batch_size)\n",
    "print(\"Test Accuracy:\", test_accuracy)\n"
   ]
  },
  {
   "cell_type": "code",
   "execution_count": 1,
   "id": "301d9a92",
   "metadata": {},
   "outputs": [
    {
     "ename": "NameError",
     "evalue": "name 'model' is not defined",
     "output_type": "error",
     "traceback": [
      "\u001b[1;31m---------------------------------------------------------------------------\u001b[0m",
      "\u001b[1;31mNameError\u001b[0m                                 Traceback (most recent call last)",
      "Cell \u001b[1;32mIn[1], line 1\u001b[0m\n\u001b[1;32m----> 1\u001b[0m predictions \u001b[38;5;241m=\u001b[39m \u001b[43mmodel\u001b[49m\u001b[38;5;241m.\u001b[39mpredict(test_generator, steps\u001b[38;5;241m=\u001b[39mtest_generator\u001b[38;5;241m.\u001b[39mn \u001b[38;5;241m/\u001b[39m\u001b[38;5;241m/\u001b[39m test_generator\u001b[38;5;241m.\u001b[39mbatch_size)\n",
      "\u001b[1;31mNameError\u001b[0m: name 'model' is not defined"
     ]
    }
   ],
   "source": [
    "predictions = model.predict(test_generator, steps=test_generator.n // test_generator.batch_size)\n"
   ]
  },
  {
   "cell_type": "code",
   "execution_count": null,
   "id": "15b3dbd4",
   "metadata": {},
   "outputs": [],
   "source": [
    "import numpy as np\n",
    "from PIL import Image\n",
    "\n",
    "# Load the image\n",
    "image_path =\"H:/1_0_3127.png\"\n",
    "img = Image.open(image_path)\n",
    "img = img.resize((224, 224))  # Resize the image to match the input size of VGG16\n",
    "\n",
    "# Convert the image to RGB mode\n",
    "img = img.convert(\"RGB\")\n",
    "\n",
    "# Preprocess the image\n",
    "img_array = np.array(img)\n",
    "img_array = img_array / 255.0  # Normalize the pixel values\n",
    "img_array = np.expand_dims(img_array, axis=0)  # Add a batch dimension\n",
    "\n",
    "# Make the prediction\n",
    "predictions = model.predict(img_array)\n",
    "predicted_class = np.argmax(predictions)\n",
    "\n",
    "print(\"Predicted class:\", class_names[predicted_class])\n"
   ]
  }
 ],
 "metadata": {
  "kernelspec": {
   "display_name": "Python 3 (ipykernel)",
   "language": "python",
   "name": "python3"
  },
  "language_info": {
   "codemirror_mode": {
    "name": "ipython",
    "version": 3
   },
   "file_extension": ".py",
   "mimetype": "text/x-python",
   "name": "python",
   "nbconvert_exporter": "python",
   "pygments_lexer": "ipython3",
   "version": "3.11.5"
  }
 },
 "nbformat": 4,
 "nbformat_minor": 5
}
